{
 "cells": [
  {
   "cell_type": "code",
   "execution_count": null,
   "id": "49562379",
   "metadata": {},
   "outputs": [],
   "source": [
    "import numpy as np\n",
    "import pandas as pd\n",
    "import sqlite3\n",
    "import matplotlib.pyplot as plt \n",
    "import plotly.offline as pyo\n",
    "pyo.init_notebook_mode()\n",
    "pd.set_option('display.max_columns', None)  # or specify a number, e.g., 100\n",
    "# Set the width of the display\n",
    "pd.set_option('display.width', 1000)\n",
    "con = sqlite3.connect('./Desktop/nba.sqlite')"
   ]
  },
  {
   "cell_type": "code",
   "execution_count": 2,
   "id": "fba645a0",
   "metadata": {},
   "outputs": [],
   "source": [
    "data =pd.read_sql_query(\"select game_date,game_id,team_abbreviation_home,fg_pct_home,fg_pct_away,fg3_pct_home,fg3_pct_away,reb_home,reb_away,ast_home,ast_away,tov_home,tov_away,wl_home from Game where game_date between '1946-01-01' and '2003-01-01'\",con)"
   ]
  },
  {
   "cell_type": "code",
   "execution_count": 3,
   "id": "7a00bc38",
   "metadata": {},
   "outputs": [
    {
     "data": {
      "text/plain": [
       "game_date                 0\n",
       "game_id                   0\n",
       "team_abbreviation_home    0\n",
       "fg_pct_home               0\n",
       "fg_pct_away               0\n",
       "fg3_pct_home              0\n",
       "fg3_pct_away              0\n",
       "reb_home                  0\n",
       "reb_away                  0\n",
       "ast_home                  0\n",
       "ast_away                  0\n",
       "tov_home                  0\n",
       "tov_away                  0\n",
       "wl_home                   0\n",
       "dtype: int64"
      ]
     },
     "execution_count": 3,
     "metadata": {},
     "output_type": "execute_result"
    }
   ],
   "source": [
    "data.isna().sum()"
   ]
  },
  {
   "cell_type": "code",
   "execution_count": 4,
   "id": "8058a42d",
   "metadata": {},
   "outputs": [
    {
     "data": {
      "text/html": [
       "<div>\n",
       "<style scoped>\n",
       "    .dataframe tbody tr th:only-of-type {\n",
       "        vertical-align: middle;\n",
       "    }\n",
       "\n",
       "    .dataframe tbody tr th {\n",
       "        vertical-align: top;\n",
       "    }\n",
       "\n",
       "    .dataframe thead th {\n",
       "        text-align: right;\n",
       "    }\n",
       "</style>\n",
       "<table border=\"1\" class=\"dataframe\">\n",
       "  <thead>\n",
       "    <tr style=\"text-align: right;\">\n",
       "      <th></th>\n",
       "      <th>game_date</th>\n",
       "      <th>game_id</th>\n",
       "      <th>team_abbreviation_home</th>\n",
       "      <th>fg_pct_home</th>\n",
       "      <th>fg_pct_away</th>\n",
       "      <th>fg3_pct_home</th>\n",
       "      <th>fg3_pct_away</th>\n",
       "      <th>reb_home</th>\n",
       "      <th>reb_away</th>\n",
       "      <th>ast_home</th>\n",
       "      <th>ast_away</th>\n",
       "      <th>tov_home</th>\n",
       "      <th>tov_away</th>\n",
       "      <th>wl_home</th>\n",
       "      <th>win</th>\n",
       "      <th>fg_pct_diff</th>\n",
       "      <th>fg3_pct_diff</th>\n",
       "      <th>reb_diff</th>\n",
       "      <th>ast_diff</th>\n",
       "      <th>tov_diff</th>\n",
       "    </tr>\n",
       "  </thead>\n",
       "  <tbody>\n",
       "    <tr>\n",
       "      <th>0</th>\n",
       "      <td>1946-11-01 00:00:00</td>\n",
       "      <td>0024600001</td>\n",
       "      <td>HUS</td>\n",
       "      <td>0.467306</td>\n",
       "      <td>0.45489</td>\n",
       "      <td>0.34614</td>\n",
       "      <td>0.336659</td>\n",
       "      <td>43.74704</td>\n",
       "      <td>42.104453</td>\n",
       "      <td>23.931136</td>\n",
       "      <td>22.125058</td>\n",
       "      <td>14.778305</td>\n",
       "      <td>15.19656</td>\n",
       "      <td>L</td>\n",
       "      <td>0</td>\n",
       "      <td>0.012415</td>\n",
       "      <td>0.009481</td>\n",
       "      <td>1.642586</td>\n",
       "      <td>1.806078</td>\n",
       "      <td>-0.418255</td>\n",
       "    </tr>\n",
       "    <tr>\n",
       "      <th>1</th>\n",
       "      <td>1946-11-02 00:00:00</td>\n",
       "      <td>0024600003</td>\n",
       "      <td>BOM</td>\n",
       "      <td>0.339000</td>\n",
       "      <td>0.22200</td>\n",
       "      <td>0.34614</td>\n",
       "      <td>0.336659</td>\n",
       "      <td>43.74704</td>\n",
       "      <td>42.104453</td>\n",
       "      <td>23.931136</td>\n",
       "      <td>22.125058</td>\n",
       "      <td>14.778305</td>\n",
       "      <td>15.19656</td>\n",
       "      <td>W</td>\n",
       "      <td>1</td>\n",
       "      <td>0.117000</td>\n",
       "      <td>0.009481</td>\n",
       "      <td>1.642586</td>\n",
       "      <td>1.806078</td>\n",
       "      <td>-0.418255</td>\n",
       "    </tr>\n",
       "    <tr>\n",
       "      <th>2</th>\n",
       "      <td>1946-11-02 00:00:00</td>\n",
       "      <td>0024600002</td>\n",
       "      <td>PRO</td>\n",
       "      <td>0.467306</td>\n",
       "      <td>0.45489</td>\n",
       "      <td>0.34614</td>\n",
       "      <td>0.336659</td>\n",
       "      <td>43.74704</td>\n",
       "      <td>42.104453</td>\n",
       "      <td>23.931136</td>\n",
       "      <td>22.125058</td>\n",
       "      <td>14.778305</td>\n",
       "      <td>15.19656</td>\n",
       "      <td>W</td>\n",
       "      <td>1</td>\n",
       "      <td>0.012415</td>\n",
       "      <td>0.009481</td>\n",
       "      <td>1.642586</td>\n",
       "      <td>1.806078</td>\n",
       "      <td>-0.418255</td>\n",
       "    </tr>\n",
       "    <tr>\n",
       "      <th>3</th>\n",
       "      <td>1946-11-02 00:00:00</td>\n",
       "      <td>0024600004</td>\n",
       "      <td>CHS</td>\n",
       "      <td>0.467306</td>\n",
       "      <td>0.45489</td>\n",
       "      <td>0.34614</td>\n",
       "      <td>0.336659</td>\n",
       "      <td>43.74704</td>\n",
       "      <td>42.104453</td>\n",
       "      <td>23.931136</td>\n",
       "      <td>22.125058</td>\n",
       "      <td>14.778305</td>\n",
       "      <td>15.19656</td>\n",
       "      <td>W</td>\n",
       "      <td>1</td>\n",
       "      <td>0.012415</td>\n",
       "      <td>0.009481</td>\n",
       "      <td>1.642586</td>\n",
       "      <td>1.806078</td>\n",
       "      <td>-0.418255</td>\n",
       "    </tr>\n",
       "    <tr>\n",
       "      <th>4</th>\n",
       "      <td>1946-11-02 00:00:00</td>\n",
       "      <td>0024600005</td>\n",
       "      <td>DEF</td>\n",
       "      <td>0.467306</td>\n",
       "      <td>0.45489</td>\n",
       "      <td>0.34614</td>\n",
       "      <td>0.336659</td>\n",
       "      <td>43.74704</td>\n",
       "      <td>42.104453</td>\n",
       "      <td>23.931136</td>\n",
       "      <td>22.125058</td>\n",
       "      <td>14.778305</td>\n",
       "      <td>15.19656</td>\n",
       "      <td>L</td>\n",
       "      <td>0</td>\n",
       "      <td>0.012415</td>\n",
       "      <td>0.009481</td>\n",
       "      <td>1.642586</td>\n",
       "      <td>1.806078</td>\n",
       "      <td>-0.418255</td>\n",
       "    </tr>\n",
       "  </tbody>\n",
       "</table>\n",
       "</div>"
      ],
      "text/plain": [
       "             game_date     game_id team_abbreviation_home  fg_pct_home  fg_pct_away  fg3_pct_home  fg3_pct_away  reb_home   reb_away   ast_home   ast_away   tov_home  tov_away wl_home  win  fg_pct_diff  fg3_pct_diff  reb_diff  ast_diff  tov_diff\n",
       "0  1946-11-01 00:00:00  0024600001                    HUS     0.467306      0.45489       0.34614      0.336659  43.74704  42.104453  23.931136  22.125058  14.778305  15.19656       L    0     0.012415      0.009481  1.642586  1.806078 -0.418255\n",
       "1  1946-11-02 00:00:00  0024600003                    BOM     0.339000      0.22200       0.34614      0.336659  43.74704  42.104453  23.931136  22.125058  14.778305  15.19656       W    1     0.117000      0.009481  1.642586  1.806078 -0.418255\n",
       "2  1946-11-02 00:00:00  0024600002                    PRO     0.467306      0.45489       0.34614      0.336659  43.74704  42.104453  23.931136  22.125058  14.778305  15.19656       W    1     0.012415      0.009481  1.642586  1.806078 -0.418255\n",
       "3  1946-11-02 00:00:00  0024600004                    CHS     0.467306      0.45489       0.34614      0.336659  43.74704  42.104453  23.931136  22.125058  14.778305  15.19656       W    1     0.012415      0.009481  1.642586  1.806078 -0.418255\n",
       "4  1946-11-02 00:00:00  0024600005                    DEF     0.467306      0.45489       0.34614      0.336659  43.74704  42.104453  23.931136  22.125058  14.778305  15.19656       L    0     0.012415      0.009481  1.642586  1.806078 -0.418255"
      ]
     },
     "execution_count": 4,
     "metadata": {},
     "output_type": "execute_result"
    }
   ],
   "source": [
    "data['win'] = data['wl_home'].apply(lambda x: 1 if x == 'W' else 0)\n",
    "data['fg_pct_diff'] = data['fg_pct_home'] - data['fg_pct_away']\n",
    "data['fg3_pct_diff'] = data['fg3_pct_home'] - data['fg3_pct_away']\n",
    "data['reb_diff'] = data['reb_home'] - data['reb_away']\n",
    "data['ast_diff'] = data['ast_home'] - data['ast_away']\n",
    "data['tov_diff'] = data['tov_home'] - data['tov_away']\n",
    "data.head()"
   ]
  },
  {
   "cell_type": "code",
   "execution_count": 5,
   "id": "ea3813e8",
   "metadata": {},
   "outputs": [],
   "source": [
    "data = data[['fg_pct_diff','fg3_pct_diff','reb_diff','ast_diff','tov_diff','win']]"
   ]
  },
  {
   "cell_type": "code",
   "execution_count": 6,
   "id": "2ba14bcc",
   "metadata": {},
   "outputs": [
    {
     "data": {
      "image/png": "[encoded data removed]",
      "text/plain": [
       "<Figure size 640x480 with 2 Axes>"
      ]
     },
     "metadata": {},
     "output_type": "display_data"
    }
   ],
   "source": [
    "import seaborn as sns\n",
    "correlation_matrix = data[['win', 'fg_pct_diff', 'fg3_pct_diff', 'reb_diff', 'ast_diff', 'tov_diff']].corr()\n",
    "sns.heatmap(correlation_matrix, annot=True, cmap='coolwarm')\n",
    "plt.show()"
   ]
  },
  {
   "cell_type": "code",
   "execution_count": 7,
   "id": "a9edbc58",
   "metadata": {},
   "outputs": [
    {
     "data": {
      "text/plain": [
       "38902"
      ]
     },
     "execution_count": 7,
     "metadata": {},
     "output_type": "execute_result"
    }
   ],
   "source": [
    "X = data.iloc[:,:-1].values\n",
    "y = data.iloc[:,-1].values\n",
    "\n",
    "len(X)"
   ]
  },
  {
   "cell_type": "code",
   "execution_count": 8,
   "id": "b464dd33",
   "metadata": {},
   "outputs": [
    {
     "name": "stdout",
     "output_type": "stream",
     "text": [
      "win\n",
      "1    24877\n",
      "0    14025\n",
      "Name: count, dtype: int64\n"
     ]
    }
   ],
   "source": [
    "from sklearn.model_selection import train_test_split\n",
    "from sklearn.metrics import confusion_matrix,ConfusionMatrixDisplay,accuracy_score\n",
    "from sklearn.linear_model import LogisticRegression\n",
    "from imblearn.over_sampling import RandomOverSampler\n",
    "\n",
    "class_distribution = data['win'].value_counts()\n",
    "print(class_distribution)\n",
    "oversampler = RandomOverSampler(random_state=42)\n",
    "X_resampled, y_resampled = oversampler.fit_resample(X, y)\n",
    "X,y = X_resampled, y_resampled "
   ]
  },
  {
   "cell_type": "code",
   "execution_count": 9,
   "id": "ab3a648c",
   "metadata": {},
   "outputs": [
    {
     "name": "stdout",
     "output_type": "stream",
     "text": [
      "Unique Values: [0 1]\n",
      "Frequency Values: [24877 24877]\n"
     ]
    }
   ],
   "source": [
    "unique, frequency = np.unique(y, \n",
    "                              return_counts = True)\n",
    "# print unique values array\n",
    "print(\"Unique Values:\", \n",
    "      unique)\n",
    " \n",
    "# print frequency array\n",
    "print(\"Frequency Values:\",\n",
    "      frequency)"
   ]
  },
  {
   "cell_type": "code",
   "execution_count": 10,
   "id": "477aa0ca",
   "metadata": {},
   "outputs": [
    {
     "data": {
      "text/plain": [
       "array([[3585, 2678],\n",
       "       [ 590, 5586]])"
      ]
     },
     "execution_count": 10,
     "metadata": {},
     "output_type": "execute_result"
    }
   ],
   "source": [
    "X_train,X_test,y_train,y_test = train_test_split(X,y,random_state = 5)\n",
    "lr = LogisticRegression()\n",
    "lr.fit(X_train,y_train)\n",
    "y_pred = lr.predict(X_test)\n",
    "cm = confusion_matrix(y_test,y_pred)\n",
    "cm"
   ]
  },
  {
   "cell_type": "code",
   "execution_count": 11,
   "id": "178514f9",
   "metadata": {},
   "outputs": [
    {
     "data": {
      "image/png": "[encoded data removed]",
      "text/plain": [
       "<Figure size 640x480 with 2 Axes>"
      ]
     },
     "metadata": {},
     "output_type": "display_data"
    }
   ],
   "source": [
    "cm_display = ConfusionMatrixDisplay(confusion_matrix=cm, display_labels=['Not Win', 'Win'])\n",
    "cm_display.plot(cmap='Blues')\n",
    "plt.title('Confusion Matrix')\n",
    "plt.show()"
   ]
  },
  {
   "cell_type": "code",
   "execution_count": 12,
   "id": "6a946da7",
   "metadata": {},
   "outputs": [],
   "source": [
    "from sklearn.metrics import confusion_matrix,ConfusionMatrixDisplay,accuracy_score\n",
    "accuracy = accuracy_score(y_test,y_pred)\n"
   ]
  },
  {
   "cell_type": "code",
   "execution_count": 13,
   "id": "d122e7da",
   "metadata": {},
   "outputs": [
    {
     "data": {
      "text/plain": [
       "0.7372779162312083"
      ]
     },
     "execution_count": 13,
     "metadata": {},
     "output_type": "execute_result"
    }
   ],
   "source": [
    "accuracy"
   ]
  },
  {
   "cell_type": "code",
   "execution_count": 14,
   "id": "a73e533b",
   "metadata": {},
   "outputs": [],
   "source": [
    "precision = 3544/(3544+418)"
   ]
  },
  {
   "cell_type": "code",
   "execution_count": 15,
   "id": "4742b726",
   "metadata": {},
   "outputs": [
    {
     "data": {
      "text/plain": [
       "0.8944977284199899"
      ]
     },
     "execution_count": 15,
     "metadata": {},
     "output_type": "execute_result"
    }
   ],
   "source": [
    "precision"
   ]
  },
  {
   "cell_type": "code",
   "execution_count": 16,
   "id": "657aa6af",
   "metadata": {},
   "outputs": [],
   "source": [
    "y_pred_prob = lr.predict_proba(X_test)[:, 1] "
   ]
  },
  {
   "cell_type": "code",
   "execution_count": 17,
   "id": "df647dc0",
   "metadata": {},
   "outputs": [
    {
     "name": "stdout",
     "output_type": "stream",
     "text": [
      "ROC-AUC: 0.84\n"
     ]
    }
   ],
   "source": [
    "from sklearn.metrics import roc_auc_score\n",
    "\n",
    "# Calculate ROC-AUC\n",
    "roc_auc = roc_auc_score(y_test, y_pred_prob)\n",
    "print(f'ROC-AUC: {roc_auc:.2f}')"
   ]
  },
  {
   "cell_type": "code",
   "execution_count": 24,
   "id": "61f4aee1",
   "metadata": {},
   "outputs": [],
   "source": [
    "import pickle\n",
    "\n",
    "# Save the model to a file\n",
    "with open('lr_bef_2003.pkl', 'wb') as file:\n",
    "    pickle.dump(lr, file)"
   ]
  },
  {
   "cell_type": "markdown",
   "id": "b69d9cca",
   "metadata": {},
   "source": [
    "### Ensemble model"
   ]
  },
  {
   "cell_type": "code",
   "execution_count": 18,
   "id": "b981a0b7",
   "metadata": {},
   "outputs": [],
   "source": [
    "from sklearn.ensemble import GradientBoostingClassifier\n",
    "gb = GradientBoostingClassifier()"
   ]
  },
  {
   "cell_type": "code",
   "execution_count": 19,
   "id": "021b81f2",
   "metadata": {},
   "outputs": [
    {
     "data": {
      "text/html": [
       "<style>#sk-container-id-1 {color: black;}#sk-container-id-1 pre{padding: 0;}#sk-container-id-1 div.sk-toggleable {background-color: white;}#sk-container-id-1 label.sk-toggleable__label {cursor: pointer;display: block;width: 100%;margin-bottom: 0;padding: 0.3em;box-sizing: border-box;text-align: center;}#sk-container-id-1 label.sk-toggleable__label-arrow:before {content: \"▸\";float: left;margin-right: 0.25em;color: #696969;}#sk-container-id-1 label.sk-toggleable__label-arrow:hover:before {color: black;}#sk-container-id-1 div.sk-estimator:hover label.sk-toggleable__label-arrow:before {color: black;}#sk-container-id-1 div.sk-toggleable__content {max-height: 0;max-width: 0;overflow: hidden;text-align: left;background-color: #f0f8ff;}#sk-container-id-1 div.sk-toggleable__content pre {margin: 0.2em;color: black;border-radius: 0.25em;background-color: #f0f8ff;}#sk-container-id-1 input.sk-toggleable__control:checked~div.sk-toggleable__content {max-height: 200px;max-width: 100%;overflow: auto;}#sk-container-id-1 input.sk-toggleable__control:checked~label.sk-toggleable__label-arrow:before {content: \"▾\";}#sk-container-id-1 div.sk-estimator input.sk-toggleable__control:checked~label.sk-toggleable__label {background-color: #d4ebff;}#sk-container-id-1 div.sk-label input.sk-toggleable__control:checked~label.sk-toggleable__label {background-color: #d4ebff;}#sk-container-id-1 input.sk-hidden--visually {border: 0;clip: rect(1px 1px 1px 1px);clip: rect(1px, 1px, 1px, 1px);height: 1px;margin: -1px;overflow: hidden;padding: 0;position: absolute;width: 1px;}#sk-container-id-1 div.sk-estimator {font-family: monospace;background-color: #f0f8ff;border: 1px dotted black;border-radius: 0.25em;box-sizing: border-box;margin-bottom: 0.5em;}#sk-container-id-1 div.sk-estimator:hover {background-color: #d4ebff;}#sk-container-id-1 div.sk-parallel-item::after {content: \"\";width: 100%;border-bottom: 1px solid gray;flex-grow: 1;}#sk-container-id-1 div.sk-label:hover label.sk-toggleable__label {background-color: #d4ebff;}#sk-container-id-1 div.sk-serial::before {content: \"\";position: absolute;border-left: 1px solid gray;box-sizing: border-box;top: 0;bottom: 0;left: 50%;z-index: 0;}#sk-container-id-1 div.sk-serial {display: flex;flex-direction: column;align-items: center;background-color: white;padding-right: 0.2em;padding-left: 0.2em;position: relative;}#sk-container-id-1 div.sk-item {position: relative;z-index: 1;}#sk-container-id-1 div.sk-parallel {display: flex;align-items: stretch;justify-content: center;background-color: white;position: relative;}#sk-container-id-1 div.sk-item::before, #sk-container-id-1 div.sk-parallel-item::before {content: \"\";position: absolute;border-left: 1px solid gray;box-sizing: border-box;top: 0;bottom: 0;left: 50%;z-index: -1;}#sk-container-id-1 div.sk-parallel-item {display: flex;flex-direction: column;z-index: 1;position: relative;background-color: white;}#sk-container-id-1 div.sk-parallel-item:first-child::after {align-self: flex-end;width: 50%;}#sk-container-id-1 div.sk-parallel-item:last-child::after {align-self: flex-start;width: 50%;}#sk-container-id-1 div.sk-parallel-item:only-child::after {width: 0;}#sk-container-id-1 div.sk-dashed-wrapped {border: 1px dashed gray;margin: 0 0.4em 0.5em 0.4em;box-sizing: border-box;padding-bottom: 0.4em;background-color: white;}#sk-container-id-1 div.sk-label label {font-family: monospace;font-weight: bold;display: inline-block;line-height: 1.2em;}#sk-container-id-1 div.sk-label-container {text-align: center;}#sk-container-id-1 div.sk-container {/* jupyter's `normalize.less` sets `[hidden] { display: none; }` but bootstrap.min.css set `[hidden] { display: none !important; }` so we also need the `!important` here to be able to override the default hidden behavior on the sphinx rendered scikit-learn.org. See: https://github.com/scikit-learn/scikit-learn/issues/21755 */display: inline-block !important;position: relative;}#sk-container-id-1 div.sk-text-repr-fallback {display: none;}</style><div id=\"sk-container-id-1\" class=\"sk-top-container\"><div class=\"sk-text-repr-fallback\"><pre>GradientBoostingClassifier()</pre><b>In a Jupyter environment, please rerun this cell to show the HTML representation or trust the notebook. <br />On GitHub, the HTML representation is unable to render, please try loading this page with nbviewer.org.</b></div><div class=\"sk-container\" hidden><div class=\"sk-item\"><div class=\"sk-estimator sk-toggleable\"><input class=\"sk-toggleable__control sk-hidden--visually\" id=\"sk-estimator-id-1\" type=\"checkbox\" checked><label for=\"sk-estimator-id-1\" class=\"sk-toggleable__label sk-toggleable__label-arrow\">GradientBoostingClassifier</label><div class=\"sk-toggleable__content\"><pre>GradientBoostingClassifier()</pre></div></div></div></div></div>"
      ],
      "text/plain": [
       "GradientBoostingClassifier()"
      ]
     },
     "execution_count": 19,
     "metadata": {},
     "output_type": "execute_result"
    }
   ],
   "source": [
    "gb.fit(X_train,y_train)"
   ]
  },
  {
   "cell_type": "code",
   "execution_count": 20,
   "id": "c17107dd",
   "metadata": {},
   "outputs": [],
   "source": [
    "cm1 = confusion_matrix(y_test,gb.predict(X_test))"
   ]
  },
  {
   "cell_type": "code",
   "execution_count": 21,
   "id": "13b5b35b",
   "metadata": {},
   "outputs": [
    {
     "data": {
      "image/png": "[encoded data removed]",
      "text/plain": [
       "<Figure size 640x480 with 2 Axes>"
      ]
     },
     "metadata": {},
     "output_type": "display_data"
    }
   ],
   "source": [
    "cm_display1 = ConfusionMatrixDisplay(confusion_matrix=cm1, display_labels=['Not Win', 'Win'])\n",
    "cm_display1.plot(cmap='Blues')\n",
    "plt.title('Confusion Matrix')\n",
    "plt.show()"
   ]
  },
  {
   "cell_type": "code",
   "execution_count": 22,
   "id": "aa94de42",
   "metadata": {},
   "outputs": [
    {
     "data": {
      "text/plain": [
       "0.7386445855776188"
      ]
     },
     "execution_count": 22,
     "metadata": {},
     "output_type": "execute_result"
    }
   ],
   "source": [
    "accuracy1 = accuracy_score(y_test,gb.predict(X_test))\n",
    "accuracy1"
   ]
  },
  {
   "cell_type": "code",
   "execution_count": null,
   "id": "925ff43b",
   "metadata": {},
   "outputs": [],
   "source": []
  },
  {
   "cell_type": "code",
   "execution_count": null,
   "id": "631f3deb",
   "metadata": {},
   "outputs": [],
   "source": []
  },
  {
   "cell_type": "code",
   "execution_count": null,
   "id": "9cd2bf57",
   "metadata": {},
   "outputs": [],
   "source": []
  }
 ],
 "metadata": {
  "kernelspec": {
   "display_name": "Python 3 (ipykernel)",
   "language": "python",
   "name": "python3"
  },
  "language_info": {
   "codemirror_mode": {
    "name": "ipython",
    "version": 3
   },
   "file_extension": ".py",
   "mimetype": "text/x-python",
   "name": "python",
   "nbconvert_exporter": "python",
   "pygments_lexer": "ipython3",
   "version": "3.9.19"
  }
 },
 "nbformat": 4,
 "nbformat_minor": 5
}
